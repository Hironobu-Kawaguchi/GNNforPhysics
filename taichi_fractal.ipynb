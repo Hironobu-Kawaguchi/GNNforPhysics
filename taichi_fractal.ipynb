{
 "cells": [
  {
   "cell_type": "markdown",
   "id": "773b58a2-07b2-4b27-81fb-d81beca32bdb",
   "metadata": {},
   "source": [
    "https://docs.taichi.graphics/"
   ]
  },
  {
   "cell_type": "code",
   "execution_count": 5,
   "id": "736c8a2e-a831-4056-adbd-d0b2fab2b295",
   "metadata": {},
   "outputs": [],
   "source": [
    "import taichi as ti"
   ]
  },
  {
   "cell_type": "code",
   "execution_count": 6,
   "id": "f3fc59bb-9a66-42ee-ba59-3643bf2fb11a",
   "metadata": {},
   "outputs": [
    {
     "name": "stdout",
     "output_type": "stream",
     "text": [
      "[Taichi] Starting on arch=metal\n"
     ]
    }
   ],
   "source": [
    "# Run on GPU, with the Apple Metal backend, if you are on macOS\n",
    "ti.init(arch=ti.metal)"
   ]
  },
  {
   "cell_type": "code",
   "execution_count": 7,
   "id": "8cc89ec6-9166-4738-9d3e-4ce8fa8dbda9",
   "metadata": {},
   "outputs": [],
   "source": [
    "n = 320\n",
    "pixels = ti.field(dtype=float, shape=(n * 2, n))\n",
    "\n",
    "@ti.func\n",
    "def complex_sqr(z):\n",
    "    return ti.Vector([z[0]**2 - z[1]**2, z[1] * z[0] * 2])\n",
    "\n",
    "@ti.kernel\n",
    "def paint(t: float):\n",
    "    for i, j in pixels:  # Parallelized over all pixels\n",
    "        c = ti.Vector([-0.8, ti.cos(t) * 0.2])\n",
    "        z = ti.Vector([i / n - 1, j / n - 0.5]) * 2\n",
    "        iterations = 0\n",
    "        while z.norm() < 20 and iterations < 50:\n",
    "            z = complex_sqr(z) + c\n",
    "            iterations += 1\n",
    "        pixels[i, j] = 1 - iterations * 0.02\n",
    "\n",
    "gui = ti.GUI(\"Julia Set\", res=(n * 2, n))\n",
    "\n",
    "i = 0\n",
    "while gui.running:\n",
    "    paint(i * 0.03)\n",
    "    gui.set_image(pixels)\n",
    "    gui.show()\n",
    "    i = i + 1"
   ]
  },
  {
   "cell_type": "code",
   "execution_count": null,
   "id": "a051f65c-e82b-4fb3-8536-0f586c17b027",
   "metadata": {},
   "outputs": [],
   "source": []
  }
 ],
 "metadata": {
  "kernelspec": {
   "display_name": "Python 3 (ipykernel)",
   "language": "python",
   "name": "python3"
  },
  "language_info": {
   "codemirror_mode": {
    "name": "ipython",
    "version": 3
   },
   "file_extension": ".py",
   "mimetype": "text/x-python",
   "name": "python",
   "nbconvert_exporter": "python",
   "pygments_lexer": "ipython3",
   "version": "3.9.9"
  }
 },
 "nbformat": 4,
 "nbformat_minor": 5
}
